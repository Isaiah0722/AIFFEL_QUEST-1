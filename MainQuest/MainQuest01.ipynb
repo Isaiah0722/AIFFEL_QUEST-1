{
  "nbformat": 4,
  "nbformat_minor": 0,
  "metadata": {
    "colab": {
      "provenance": [],
      "authorship_tag": "ABX9TyPY2qzSaM4CSOTVFk7xqHZw",
      "include_colab_link": true
    },
    "kernelspec": {
      "name": "python3",
      "display_name": "Python 3"
    },
    "language_info": {
      "name": "python"
    }
  },
  "cells": [
    {
      "cell_type": "markdown",
      "metadata": {
        "id": "view-in-github",
        "colab_type": "text"
      },
      "source": [
        "<a href=\"https://colab.research.google.com/github/lys678/AIFFEL_QUEST/blob/main/MainQuest/MainQuest01.ipynb\" target=\"_parent\"><img src=\"https://colab.research.google.com/assets/colab-badge.svg\" alt=\"Open In Colab\"/></a>"
      ]
    },
    {
      "cell_type": "code",
      "execution_count": 4,
      "metadata": {
        "colab": {
          "base_uri": "https://localhost:8080/"
        },
        "id": "RqVqEc1hrVa9",
        "outputId": "6fcde230-4202-46e0-866a-b642d9d634cf"
      },
      "outputs": [
        {
          "output_type": "stream",
          "name": "stdout",
          "text": [
            "5000원이 입금되었습니다. 현재 잔액: 15,000원\n",
            "1000000원이 입금되었습니다. 현재 잔액: 1,015,000원\n",
            "7000000원이 입금되었습니다. 현재 잔액: 7,020,000원\n",
            "50000원이 출금되었습니다. 현재 잔액: 965000원\n",
            "은행이름: SC은행, 예금주: 예금주1, 계좌번호: 727-87-507499, 잔고: 965,000원\n",
            "\n",
            "은행이름: SC은행, 예금주: 예금주2, 계좌번호: 749-40-565873, 잔고: 7,020,000원\n",
            "\n",
            "은행이름: SC은행, 예금주: 예금주3, 계좌번호: 625-56-941303, 잔고: 30,000원\n",
            "\n",
            "잔고가 100만원 이상인 고객정보 :\n",
            "은행이름: SC은행, 예금주: 예금주2, 계좌번호: 749-40-565873, 잔고: 7,020,000원\n",
            "\n"
          ]
        }
      ],
      "source": [
        "import random       # 계좌번호가 랜덤하게 생성되므로 random 함수를 import함.\n",
        "\n",
        "class Account:\n",
        "    account_count = 0                     # 계좌 생성 개수 초기화\n",
        "\n",
        "    def __init__(self, owner, initial_balance):                   # 생성자를 __init__을 이용해 구현\n",
        "\n",
        "        self.owner = owner                                        # 사용자의 이름을 속성으로 받음.\n",
        "        self.account_number = self.generate_account_number()      # 아래의 generate_account_number함수를 불러옴.\n",
        "        self.bank_name = \"SC은행\"                                 # 은행은 SC은행으로 고정\n",
        "        self.balance = initial_balance                            # 잔액 초기화\n",
        "        self.account_count += 1                                  # 계좌 객체의 개수 1씩 증가\n",
        "        self.deposit_count = 0                                  # 입금 횟수 초기화\n",
        "\n",
        "    def generate_account_number(self):\n",
        "        random.seed()                                           #계좌 번호를 랜덤으로 만들고 유지함.\n",
        "        account_number = \"{:3}-{:2}-{:6}\".format(random.randint(0, 999), random.randint(0, 99), random.randint(0, 999999))\n",
        "        # 3, 2, 6자리씩 끊어서 계좌번호 출력, format을 이용하여 초기화하고, random.randint를 활용하여 해당 범위의 숫자들 중 랜덤하게 각각 출력함.\n",
        "        return account_number\n",
        "\n",
        "    def get_account_num(cls):                              #생성된 계좌의 개수출력\n",
        "        return cls.account_count\n",
        "\n",
        "    def deposit(self, amount):\n",
        "        if amount >= 1:\n",
        "            self.balance += amount\n",
        "            self.deposit_count += 1  # 입금 횟수 증가\n",
        "\n",
        "            if self.deposit_count % 5 == 0:  # 입금 횟수가 5회일 때\n",
        "                interest = int(self.balance * 0.01)  # 잔고의 1% 이자 계산\n",
        "                self.balance += interest\n",
        "                print(f\"{amount}원이 입금되었습니다. 현재 잔액: {self.balance:,}원 (이자 {interest:,}원 포함)\")\n",
        "            else:\n",
        "                print(f\"{amount}원이 입금되었습니다. 현재 잔액: {self.balance:,}원\")\n",
        "        else:\n",
        "            print(\"입금은 최소 1원 이상 가능합니다.\")\n",
        "\n",
        "    def withdraw(self, amount):\n",
        "        if amount > self.balance:\n",
        "            print(\"출금할 금액이 잔고보다 큽니다.\")\n",
        "        elif amount >= 1:\n",
        "            self.balance -= amount\n",
        "            print(f\"{amount}원이 출금되었습니다. 현재 잔액: {self.balance}원\")\n",
        "        else:\n",
        "            print(\"출금은 최소 1원 이상 가능합니다.\")\n",
        "\n",
        "    def display_info(self):\n",
        "        formatted_balance = \"{:,}\".format(self.balance)\n",
        "        print(f\"은행이름: {self.bank_name}, 예금주: {self.owner}, 계좌번호: {self.account_number}, 잔고: {formatted_balance}원\")\n",
        "        # 고객정보 출력\n",
        "\n",
        "    def display_transactions(self):\n",
        "            print(f\"예금주: {self.owner}, 계좌번호: {self.account_number}의 거래 내역:\")\n",
        "            for transaction in self.transactions:\n",
        "                if transaction.transaction_type == \"입금\":\n",
        "                    print(f\"입금: {transaction.amount}원\")\n",
        "                elif transaction.transaction_type == \"출금\":\n",
        "                    print(f\"출금: {transaction.amount}원\")\n",
        "            print()\n",
        "\n",
        "    def deposit_history(self):\n",
        "        print(f\"예금주: {self.owner}, 계좌번호: {self.account_number}의 입금 내역:\")\n",
        "        for transaction in self.transactions:\n",
        "            if transaction.transaction_type == \"입금\":\n",
        "                print(f\"입금: {transaction.amount}원\")\n",
        "        print()\n",
        "\n",
        "    def withdraw_history(self):\n",
        "        print(f\"예금주: {self.owner}, 계좌번호: {self.account_number}의 출금 내역:\")\n",
        "        for transaction in self.transactions:\n",
        "            if transaction.transaction_type == \"출금\":\n",
        "                print(f\"출금: {transaction.amount}원\")\n",
        "        print()\n",
        "\n",
        "\n",
        "# 인스턴스 생성 및 리스트에 저장\n",
        "# 예금, 출금, 계좌 생성과 같은 명령어를 입력함.\n",
        "accounts = []\n",
        "\n",
        "account1 = Account(\"예금주1\", 10000)            # 예금주1 계좌 개설, 10000원 입금.\n",
        "accounts.append(account1)\n",
        "\n",
        "account2 = Account(\"예금주2\", 20000)            # 예금주2 계좌 개설, 10000원 입금.\n",
        "accounts.append(account2)\n",
        "\n",
        "account3 = Account(\"예금주3\", 30000)            # 예금주3 계좌 개설, 10000원 입금.\n",
        "accounts.append(account3)\n",
        "\n",
        "account1.deposit(5000)                        # 예금주1 5000원 입금.\n",
        "account1.deposit(1000000)                       # 예금주1 1000000원 입금.\n",
        "account2.deposit(7000000)                       # 예금주1 7000000원 입금.\n",
        "account1.withdraw(50000)                        # 예금주1 50000원 출금.\n",
        "\n",
        "# 저장된 인스턴스 정보 출력\n",
        "for account in accounts:\n",
        "    account.display_info()\n",
        "    print()\n",
        "\n",
        "# 잔고가 100만원 이상인 고객 정보 출력\n",
        "print(\"잔고가 100만원 이상인 고객정보 :\")\n",
        "for account in accounts:\n",
        "    if account.balance >= 1000000:\n",
        "        account.display_info()\n",
        "        print()"
      ]
    }
  ]
}