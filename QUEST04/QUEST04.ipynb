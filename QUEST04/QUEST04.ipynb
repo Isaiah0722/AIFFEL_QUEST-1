{
  "nbformat": 4,
  "nbformat_minor": 0,
  "metadata": {
    "colab": {
      "provenance": [],
      "include_colab_link": true
    },
    "kernelspec": {
      "name": "python3",
      "display_name": "Python 3"
    },
    "language_info": {
      "name": "python"
    }
  },
  "cells": [
    {
      "cell_type": "markdown",
      "metadata": {
        "id": "view-in-github",
        "colab_type": "text"
      },
      "source": [
        "<a href=\"https://colab.research.google.com/github/lys678/AIFFEL_QUEST/blob/main/QUEST04/QUEST04.ipynb\" target=\"_parent\"><img src=\"https://colab.research.google.com/assets/colab-badge.svg\" alt=\"Open In Colab\"/></a>"
      ]
    },
    {
      "cell_type": "code",
      "execution_count": null,
      "metadata": {
        "id": "MjrpkSgJlRUS",
        "colab": {
          "base_uri": "https://localhost:8080/"
        },
        "outputId": "3719c539-ea1e-4e7d-d34e-e908fdc9a49c"
      },
      "outputs": [
        {
          "output_type": "stream",
          "name": "stdout",
          "text": [
            "Using Comprehension : \n",
            "Nemo is swimming at a speed of 3 m/s\n",
            "Dory is swimming at a speed of 5 m/s\n",
            "Using Generator :\n",
            "Nemo is swimming at a speed of 3 m/s\n",
            "Dory is swimming at a speed of 5 m/s\n"
          ]
        }
      ],
      "source": [
        "from time import sleep                                                                     # time 모듈의 sleep 함수를 import함.\n",
        "\n",
        "\n",
        "def show_fish_movement_comprehension(fish_list):                                           # show_fish_movement_comprehension함수를 지정\n",
        "    return [f\"{i['이름']} is swimming at a speed of {i['speed']} m/s\" for i in fish_list]   # '이름'과 'spped'를 for 문을 이용해서 fish_list에서 가져옴.\n",
        "\n",
        "                                                                                           # 컴프리헨션을 이용하여 for문을 작성함.\n",
        "def show_fish_movement_Generator(fish_list):                                               # show_fish_movement-Generator 함수를 지정\n",
        "    for i in fish_list:                                                                    # for문을 이용하면서 yield\n",
        "        yield (f\"{i['이름']} is swimming at a speed of {i['speed']} m/s\")\n",
        "\n",
        "fish_list = [{\"이름\": \"Nemo\", \"speed\": 3}, {\"이름\": \"Dory\", \"speed\": 5}]                     # fish_list 지정\n",
        "\n",
        "print(\"Using Comprehension : \")\n",
        "for i in show_fish_movement_comprehension(fish_list):                                      # for문을 이용해서 반복하고 sleep함수를 이용해서 2초 뒤에 print함수가 실행되도록 작성함.\n",
        "    sleep(2)\n",
        "    print(i)\n",
        "\n",
        "fish_gen = show_fish_movement_Generator(fish_list)                                         # 제너레이터 객체 생성\n",
        "sleep(2)\n",
        "print(\"Using Generator :\")\n",
        "while True:                                                                                # 제너레이터 객체의 값을 하나씩 출력합니다.\n",
        "    try:\n",
        "        sleep(2)\n",
        "        fish_movement = next(fish_gen)\n",
        "        print(fish_movement)\n",
        "    except StopIteration:                                                                  # 제너레이터에서 더 이상 반환한 값이 없을때 break\n",
        "        break\n"
      ]
    }
  ]
}