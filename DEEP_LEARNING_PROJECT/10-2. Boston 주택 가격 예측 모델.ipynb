{
 "cells": [
  {
   "cell_type": "code",
   "execution_count": 1,
   "id": "ea06067f",
   "metadata": {},
   "outputs": [],
   "source": [
    "from tensorflow.keras import models, layers\n",
    "import matplotlib.pyplot as plt"
   ]
  },
  {
   "cell_type": "code",
   "execution_count": 2,
   "id": "802d8550",
   "metadata": {},
   "outputs": [
    {
     "name": "stdout",
     "output_type": "stream",
     "text": [
      "404\n",
      "102\n"
     ]
    }
   ],
   "source": [
    "# keras.datasets 안에 boston_housing 데이터셋을 로드합니다.\n",
    "from keras.datasets import boston_housing\n",
    "\n",
    "(train_data, train_labels), (test_data, test_labels) = boston_housing.load_data()\n",
    "\n",
    "# 데이터셋의 크기를 확인합니다.\n",
    "print(len(train_data))\n",
    "print(len(test_data))"
   ]
  },
  {
   "cell_type": "code",
   "execution_count": 3,
   "id": "ce473602",
   "metadata": {},
   "outputs": [],
   "source": [
    "# 문제 1-1: 데이터셋의 전처리를 위해 표준화 작업을 수행합니다.\n",
    "# 먼저 입력 데이터의 각 특성의 평균을 뺍니다.\n",
    "mean = train_data.mean(axis=0)\n",
    "std = train_data.std(axis=0)\n",
    "train_data -= mean\n",
    "\n",
    "# 평균을 뺀 입력 데이터에서 표준편차를 나눕니다.\n",
    "# 데이터 특성의 중앙이 0에 가깝게 만들고, 표준편차가 1이 되게 만듭니다.\n",
    "train_data /= std\n",
    "\n",
    "# 테스트 데이터셋도 마찬가지로 평균을 빼고, 표준편차로 나눕니다.\n",
    "test_data -= mean\n",
    "test_data /= std"
   ]
  },
  {
   "cell_type": "code",
   "execution_count": 15,
   "id": "23e108a7",
   "metadata": {},
   "outputs": [
    {
     "name": "stdout",
     "output_type": "stream",
     "text": [
      "Model: \"sequential_5\"\n",
      "_________________________________________________________________\n",
      "Layer (type)                 Output Shape              Param #   \n",
      "=================================================================\n",
      "dense_8 (Dense)              (None, 52)                728       \n",
      "_________________________________________________________________\n",
      "dense_9 (Dense)              (None, 39)                2067      \n",
      "_________________________________________________________________\n",
      "dense_10 (Dense)             (None, 26)                1040      \n",
      "_________________________________________________________________\n",
      "dense_11 (Dense)             (None, 1)                 27        \n",
      "=================================================================\n",
      "Total params: 3,862\n",
      "Trainable params: 3,862\n",
      "Non-trainable params: 0\n",
      "_________________________________________________________________\n"
     ]
    }
   ],
   "source": [
    "# 문제 1-2: 주택 가격 예측을 위한 딥러닝 모델 구성 및 컴파일합니다.\n",
    "# input_shape은 (train_data.shape[1], )으로 구성합니다.\n",
    "# 회귀(예측)을 위한 모델이므로 loss를 mse, metrics를 mae로 사용합니다.\n",
    "\n",
    "from tensorflow.keras import models, layers\n",
    "\n",
    "# 모델 구성\n",
    "model = models.Sequential()\n",
    "model.add(layers.Dense(units=52, activation='relu', input_shape=(train_data.shape[1], )))\n",
    "model.add(layers.Dense(39, activation='relu'))\n",
    "model.add(layers.Dense(26, activation='relu'))\n",
    "model.add(layers.Dense(1, activation='relu'))\n",
    "\n",
    "model.compile(optimizer='adam', loss='mse', metrics = 'mae')\n",
    "\n",
    "model.summary()"
   ]
  },
  {
   "cell_type": "code",
   "execution_count": 16,
   "id": "55e1928a",
   "metadata": {},
   "outputs": [
    {
     "name": "stdout",
     "output_type": "stream",
     "text": [
      "Epoch 1/60\n",
      "10/10 [==============================] - 1s 18ms/step - loss: 534.0325 - mae: 21.3328 - val_loss: 651.9920 - val_mae: 23.4857\n",
      "Epoch 2/60\n",
      "10/10 [==============================] - 0s 5ms/step - loss: 503.3275 - mae: 20.5818 - val_loss: 614.1295 - val_mae: 22.6891\n",
      "Epoch 3/60\n",
      "10/10 [==============================] - 0s 4ms/step - loss: 464.8878 - mae: 19.6108 - val_loss: 561.5685 - val_mae: 21.5158\n",
      "Epoch 4/60\n",
      "10/10 [==============================] - 0s 4ms/step - loss: 408.9326 - mae: 18.1087 - val_loss: 477.1931 - val_mae: 19.5675\n",
      "Epoch 5/60\n",
      "10/10 [==============================] - 0s 4ms/step - loss: 325.4118 - mae: 15.7647 - val_loss: 356.5255 - val_mae: 16.4908\n",
      "Epoch 6/60\n",
      "10/10 [==============================] - 0s 4ms/step - loss: 219.8623 - mae: 12.6489 - val_loss: 216.5384 - val_mae: 12.4215\n",
      "Epoch 7/60\n",
      "10/10 [==============================] - 0s 4ms/step - loss: 115.7297 - mae: 8.8890 - val_loss: 107.1776 - val_mae: 8.2382\n",
      "Epoch 8/60\n",
      "10/10 [==============================] - 0s 4ms/step - loss: 63.0969 - mae: 6.2728 - val_loss: 74.6315 - val_mae: 6.8164\n",
      "Epoch 9/60\n",
      "10/10 [==============================] - 0s 4ms/step - loss: 52.9372 - mae: 5.4127 - val_loss: 62.1592 - val_mae: 6.0906\n",
      "Epoch 10/60\n",
      "10/10 [==============================] - 0s 4ms/step - loss: 40.5271 - mae: 4.6625 - val_loss: 50.6135 - val_mae: 5.3496\n",
      "Epoch 11/60\n",
      "10/10 [==============================] - 0s 4ms/step - loss: 33.1587 - mae: 4.1717 - val_loss: 43.1068 - val_mae: 4.8579\n",
      "Epoch 12/60\n",
      "10/10 [==============================] - 0s 4ms/step - loss: 29.0507 - mae: 3.8437 - val_loss: 35.3325 - val_mae: 4.3916\n",
      "Epoch 13/60\n",
      "10/10 [==============================] - 0s 4ms/step - loss: 25.7320 - mae: 3.6021 - val_loss: 31.9388 - val_mae: 4.1555\n",
      "Epoch 14/60\n",
      "10/10 [==============================] - 0s 4ms/step - loss: 23.4720 - mae: 3.4060 - val_loss: 29.2937 - val_mae: 3.9713\n",
      "Epoch 15/60\n",
      "10/10 [==============================] - 0s 4ms/step - loss: 21.8352 - mae: 3.2814 - val_loss: 27.5602 - val_mae: 3.8304\n",
      "Epoch 16/60\n",
      "10/10 [==============================] - 0s 4ms/step - loss: 20.5357 - mae: 3.1780 - val_loss: 26.8247 - val_mae: 3.7482\n",
      "Epoch 17/60\n",
      "10/10 [==============================] - 0s 5ms/step - loss: 19.2931 - mae: 3.0977 - val_loss: 25.0790 - val_mae: 3.6522\n",
      "Epoch 18/60\n",
      "10/10 [==============================] - 0s 4ms/step - loss: 18.2440 - mae: 3.0263 - val_loss: 23.5876 - val_mae: 3.5721\n",
      "Epoch 19/60\n",
      "10/10 [==============================] - 0s 4ms/step - loss: 17.4153 - mae: 2.9609 - val_loss: 22.4927 - val_mae: 3.4840\n",
      "Epoch 20/60\n",
      "10/10 [==============================] - 0s 4ms/step - loss: 16.5305 - mae: 2.8869 - val_loss: 21.7909 - val_mae: 3.4157\n",
      "Epoch 21/60\n",
      "10/10 [==============================] - 0s 4ms/step - loss: 15.9874 - mae: 2.8225 - val_loss: 21.1514 - val_mae: 3.3568\n",
      "Epoch 22/60\n",
      "10/10 [==============================] - 0s 4ms/step - loss: 15.3761 - mae: 2.7947 - val_loss: 20.1550 - val_mae: 3.2931\n",
      "Epoch 23/60\n",
      "10/10 [==============================] - 0s 4ms/step - loss: 14.7382 - mae: 2.7273 - val_loss: 19.5914 - val_mae: 3.2400\n",
      "Epoch 24/60\n",
      "10/10 [==============================] - 0s 4ms/step - loss: 14.3325 - mae: 2.6868 - val_loss: 19.0320 - val_mae: 3.1759\n",
      "Epoch 25/60\n",
      "10/10 [==============================] - 0s 4ms/step - loss: 13.8123 - mae: 2.6508 - val_loss: 18.4391 - val_mae: 3.1327\n",
      "Epoch 26/60\n",
      "10/10 [==============================] - 0s 4ms/step - loss: 13.3539 - mae: 2.6126 - val_loss: 17.9641 - val_mae: 3.0854\n",
      "Epoch 27/60\n",
      "10/10 [==============================] - 0s 4ms/step - loss: 13.1344 - mae: 2.5637 - val_loss: 17.7504 - val_mae: 3.0458\n",
      "Epoch 28/60\n",
      "10/10 [==============================] - 0s 4ms/step - loss: 12.6517 - mae: 2.5352 - val_loss: 17.0408 - val_mae: 2.9943\n",
      "Epoch 29/60\n",
      "10/10 [==============================] - 0s 4ms/step - loss: 12.5166 - mae: 2.5670 - val_loss: 16.7880 - val_mae: 2.9694\n",
      "Epoch 30/60\n",
      "10/10 [==============================] - 0s 5ms/step - loss: 12.1227 - mae: 2.4937 - val_loss: 16.6590 - val_mae: 2.9710\n",
      "Epoch 31/60\n",
      "10/10 [==============================] - 0s 5ms/step - loss: 11.8209 - mae: 2.4507 - val_loss: 16.3380 - val_mae: 2.9251\n",
      "Epoch 32/60\n",
      "10/10 [==============================] - 0s 7ms/step - loss: 11.7495 - mae: 2.4661 - val_loss: 16.1197 - val_mae: 2.9045\n",
      "Epoch 33/60\n",
      "10/10 [==============================] - 0s 5ms/step - loss: 11.4277 - mae: 2.4076 - val_loss: 16.0586 - val_mae: 2.9196\n",
      "Epoch 34/60\n",
      "10/10 [==============================] - 0s 5ms/step - loss: 11.1626 - mae: 2.3816 - val_loss: 15.6720 - val_mae: 2.8730\n",
      "Epoch 35/60\n",
      "10/10 [==============================] - 0s 5ms/step - loss: 11.0127 - mae: 2.3904 - val_loss: 15.2689 - val_mae: 2.8240\n",
      "Epoch 36/60\n",
      "10/10 [==============================] - 0s 5ms/step - loss: 10.9525 - mae: 2.3916 - val_loss: 15.1986 - val_mae: 2.8214\n",
      "Epoch 37/60\n",
      "10/10 [==============================] - 0s 5ms/step - loss: 10.7016 - mae: 2.3437 - val_loss: 14.9965 - val_mae: 2.8136\n",
      "Epoch 38/60\n",
      "10/10 [==============================] - 0s 6ms/step - loss: 10.7314 - mae: 2.3645 - val_loss: 14.9218 - val_mae: 2.8568\n",
      "Epoch 39/60\n",
      "10/10 [==============================] - 0s 4ms/step - loss: 10.3574 - mae: 2.3270 - val_loss: 14.6651 - val_mae: 2.7845\n",
      "Epoch 40/60\n",
      "10/10 [==============================] - 0s 4ms/step - loss: 10.3893 - mae: 2.2882 - val_loss: 14.5783 - val_mae: 2.8176\n",
      "Epoch 41/60\n",
      "10/10 [==============================] - 0s 4ms/step - loss: 10.2502 - mae: 2.3132 - val_loss: 14.3404 - val_mae: 2.7716\n",
      "Epoch 42/60\n",
      "10/10 [==============================] - 0s 4ms/step - loss: 9.9633 - mae: 2.2660 - val_loss: 14.2337 - val_mae: 2.7875\n",
      "Epoch 43/60\n",
      "10/10 [==============================] - 0s 5ms/step - loss: 9.8592 - mae: 2.2410 - val_loss: 13.9938 - val_mae: 2.7678\n",
      "Epoch 44/60\n",
      "10/10 [==============================] - 0s 4ms/step - loss: 9.7821 - mae: 2.2125 - val_loss: 14.0648 - val_mae: 2.7387\n",
      "Epoch 45/60\n",
      "10/10 [==============================] - 0s 5ms/step - loss: 9.6665 - mae: 2.2166 - val_loss: 13.9431 - val_mae: 2.7549\n",
      "Epoch 46/60\n",
      "10/10 [==============================] - 0s 5ms/step - loss: 9.5377 - mae: 2.2078 - val_loss: 13.6686 - val_mae: 2.7321\n",
      "Epoch 47/60\n",
      "10/10 [==============================] - 0s 4ms/step - loss: 9.4226 - mae: 2.1914 - val_loss: 13.4888 - val_mae: 2.7010\n",
      "Epoch 48/60\n",
      "10/10 [==============================] - 0s 4ms/step - loss: 9.3937 - mae: 2.2100 - val_loss: 13.4344 - val_mae: 2.6953\n",
      "Epoch 49/60\n",
      "10/10 [==============================] - 0s 5ms/step - loss: 9.2522 - mae: 2.1626 - val_loss: 13.3707 - val_mae: 2.7061\n",
      "Epoch 50/60\n",
      "10/10 [==============================] - 0s 4ms/step - loss: 9.1911 - mae: 2.1568 - val_loss: 13.2573 - val_mae: 2.6957\n",
      "Epoch 51/60\n",
      "10/10 [==============================] - 0s 4ms/step - loss: 9.4323 - mae: 2.1957 - val_loss: 13.3864 - val_mae: 2.7022\n",
      "Epoch 52/60\n",
      "10/10 [==============================] - 0s 5ms/step - loss: 9.0501 - mae: 2.1404 - val_loss: 13.2329 - val_mae: 2.7329\n",
      "Epoch 53/60\n",
      "10/10 [==============================] - 0s 6ms/step - loss: 8.8912 - mae: 2.1263 - val_loss: 13.0593 - val_mae: 2.6708\n",
      "Epoch 54/60\n",
      "10/10 [==============================] - 0s 6ms/step - loss: 8.9285 - mae: 2.1198 - val_loss: 12.8681 - val_mae: 2.6351\n",
      "Epoch 55/60\n",
      "10/10 [==============================] - 0s 4ms/step - loss: 8.8578 - mae: 2.1361 - val_loss: 13.0175 - val_mae: 2.7076\n",
      "Epoch 56/60\n",
      "10/10 [==============================] - 0s 4ms/step - loss: 8.8144 - mae: 2.1005 - val_loss: 13.0033 - val_mae: 2.6903\n",
      "Epoch 57/60\n",
      "10/10 [==============================] - 0s 4ms/step - loss: 8.6515 - mae: 2.0813 - val_loss: 12.7339 - val_mae: 2.6289\n",
      "Epoch 58/60\n",
      "10/10 [==============================] - 0s 4ms/step - loss: 8.8329 - mae: 2.1230 - val_loss: 12.7280 - val_mae: 2.6611\n",
      "Epoch 59/60\n",
      "10/10 [==============================] - 0s 5ms/step - loss: 8.7343 - mae: 2.1127 - val_loss: 12.7275 - val_mae: 2.6107\n",
      "Epoch 60/60\n",
      "10/10 [==============================] - 0s 5ms/step - loss: 8.4549 - mae: 2.0648 - val_loss: 12.7165 - val_mae: 2.6741\n"
     ]
    }
   ],
   "source": [
    "# 문제 1-3: 예측을 위한 딥러닝 모델을 학습합니다.\n",
    "history = model.fit(train_data, train_labels,\n",
    "                    epochs=60,\n",
    "                    batch_size=32,\n",
    "                    validation_split=0.25)"
   ]
  },
  {
   "cell_type": "code",
   "execution_count": 17,
   "id": "106b13b3",
   "metadata": {},
   "outputs": [
    {
     "data": {
      "image/png": "[encoded data removed]",
      "text/plain": [
       "<Figure size 864x360 with 2 Axes>"
      ]
     },
     "metadata": {},
     "output_type": "display_data"
    }
   ],
   "source": [
    "# 모델 학습 히스토리에서 loss, val_loss, mae, val_mae를 차트로 보여줍니다.\n",
    "plt.style.use('seaborn-white')\n",
    "\n",
    "history_dict = history.history\n",
    "\n",
    "loss = history_dict['loss']\n",
    "val_loss = history_dict['val_loss']\n",
    "\n",
    "epochs = range(1, len(loss) + 1)\n",
    "fig = plt.figure(figsize=(12, 5))\n",
    "\n",
    "ax1 = fig.add_subplot(1, 2, 1)\n",
    "ax1.plot(epochs, loss, 'b-', label='train_loss')\n",
    "ax1.plot(epochs, val_loss, 'r-', label='val_loss')\n",
    "ax1.set_title('Train and Validation Loss')\n",
    "ax1.set_xlabel('Epochs')\n",
    "ax1.set_ylabel('Loss')\n",
    "ax1.grid()\n",
    "ax1.legend()\n",
    "\n",
    "mae = history_dict['mae']\n",
    "val_mae = history_dict['val_mae']\n",
    "\n",
    "ax2 = fig.add_subplot(1, 2, 2)\n",
    "ax2.plot(epochs, mae, 'b-', label='train_mae')\n",
    "ax2.plot(epochs, val_mae, 'r-', label='val_mae')\n",
    "ax2.set_title('Train and Validation MAE')\n",
    "ax2.set_xlabel('Epochs')\n",
    "ax2.set_ylabel('Accuracy')\n",
    "ax2.grid()\n",
    "ax2.legend()\n",
    "\n",
    "plt.show()"
   ]
  },
  {
   "cell_type": "code",
   "execution_count": 19,
   "id": "4599737e",
   "metadata": {},
   "outputs": [
    {
     "name": "stdout",
     "output_type": "stream",
     "text": [
      "4/4 [==============================] - 0s 2ms/step - loss: 24.4239 - mae: 3.2010\n"
     ]
    },
    {
     "data": {
      "text/plain": [
       "[24.42389488220215, 3.2009944915771484]"
      ]
     },
     "execution_count": 19,
     "metadata": {},
     "output_type": "execute_result"
    }
   ],
   "source": [
    "# 모델 평가 및 예측\n",
    "# 모델이 학습한 결과를 평가하기 위해서는 테스트 데이터셋인 x_test와 y_test를 지정하여 evaluate()를 실행시킵니다. \n",
    "model.evaluate(test_data, test_labels)"
   ]
  },
  {
   "cell_type": "code",
   "execution_count": null,
   "id": "c1e2aa16",
   "metadata": {},
   "outputs": [],
   "source": []
  }
 ],
 "metadata": {
  "kernelspec": {
   "display_name": "Python 3 (ipykernel)",
   "language": "python",
   "name": "python3"
  },
  "language_info": {
   "codemirror_mode": {
    "name": "ipython",
    "version": 3
   },
   "file_extension": ".py",
   "mimetype": "text/x-python",
   "name": "python",
   "nbconvert_exporter": "python",
   "pygments_lexer": "ipython3",
   "version": "3.9.7"
  }
 },
 "nbformat": 4,
 "nbformat_minor": 5
}
