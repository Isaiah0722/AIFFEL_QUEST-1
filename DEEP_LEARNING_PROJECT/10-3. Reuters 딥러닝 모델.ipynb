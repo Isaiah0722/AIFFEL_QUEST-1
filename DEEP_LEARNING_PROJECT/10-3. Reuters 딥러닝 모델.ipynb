{
 "cells": [
  {
   "cell_type": "code",
   "execution_count": 1,
   "id": "ce3c32a2",
   "metadata": {},
   "outputs": [],
   "source": [
    "# 데이터 로드 및 전처리\n",
    "# reuters 데이터셋을 로드하고, 훈련 데이터셋에서 25%를 검증 데이터셋으로 분리합니다. \n",
    "# 이때 파라메터 조정을 통해 단어의 개수는 10000개로 제한합니다(num_words=10000).\n",
    "import numpy as np\n",
    "import matplotlib.pyplot as plt\n",
    "from sklearn.model_selection import train_test_split\n",
    "\n",
    "from tensorflow.keras import models, layers\n",
    "from tensorflow.keras import callbacks\n",
    "from tensorflow.keras import utils\n",
    "from keras.datasets import reuters"
   ]
  },
  {
   "cell_type": "code",
   "execution_count": 17,
   "id": "d7f8ae69",
   "metadata": {},
   "outputs": [
    {
     "name": "stdout",
     "output_type": "stream",
     "text": [
      "6736\n",
      "2246\n",
      "2246\n",
      "46\n"
     ]
    }
   ],
   "source": [
    "# 문제 2-1: reuters 데이터셋을 로드하고, 훈련 데이터셋에서 25%를 검증 데이터셋으로 분리합니다.\n",
    "(train_data, train_labels), (test_data, test_labels) = reuters.load_data(num_words=10000)\n",
    "\n",
    "# 데이터 분할: 훈련 데이터의 25%를 검증 데이터로 분리\n",
    "train_data, val_data, train_labels, val_labels = train_test_split(train_data, train_labels, test_size=0.25)\n",
    "\n",
    "# 훈련, 검증, 테스트 데이터와 레이블 종류가 몇 개인지 출력합니다.\n",
    "print(len(train_data))\n",
    "print(len(val_data))\n",
    "print(len(test_data))\n",
    "print(len(set(train_labels)))\n"
   ]
  },
  {
   "cell_type": "code",
   "execution_count": 20,
   "id": "f012f5e8",
   "metadata": {},
   "outputs": [],
   "source": [
    "# 문제 2-2: 텍스트 데이터의 전처리를 위해서 각 데이터셋마다 원-핫 인코딩을 수행합니다.\n",
    "\n",
    "from tensorflow.keras.utils import to_categorical\n",
    "def one_hot_encoding(data, dim=10000):\n",
    "  results = np.zeros((len(data), dim))\n",
    "  for i, d in enumerate(data):\n",
    "    results[i, d] = 1.\n",
    "  return results\n",
    "\n",
    "x_train = one_hot_encoding(train_data)\n",
    "x_val = one_hot_encoding(val_data)\n",
    "x_test = one_hot_encoding(test_data)\n",
    "\n",
    "# 레이블 데이터들은 범주형 형태로 to_categorical() 함수를 사용해 변환합니다.\n",
    "num_classes = len(set(train_labels))\n",
    "y_train = to_categorical(train_labels, num_classes=num_classes)\n",
    "y_val = to_categorical(val_labels, num_classes=num_classes)\n",
    "y_test = to_categorical(test_labels, num_classes=num_classes)"
   ]
  },
  {
   "cell_type": "code",
   "execution_count": 22,
   "id": "0f7b45b5",
   "metadata": {},
   "outputs": [],
   "source": [
    "# 모델 구성 및 컴파일\n",
    "\n",
    "# 모델 구성\n",
    "# 문제 2-3: 빠른 학습과 과대적합을 방지하기 위해 BatchNormalization과 Dropout을 적용한 딥러닝 모델을 구성합니다.\n",
    "from keras.models import Sequential\n",
    "from keras.layers import Dense, BatchNormalization, Dropout\n",
    "from keras.losses import categorical_crossentropy\n",
    "model = models.Sequential()\n",
    "model.add(layers.Dense(64, activation='relu', input_shape=(10000,)))\n",
    "model.add(layers.Dense(64, activation='relu'))\n",
    "model.add(layers.BatchNormalization())\n",
    "model.add(layers.Activation('relu'))\n",
    "model.add(layers.Dropout(0.5))\n",
    "model.add(layers.Dense(46, activation='softmax'))\n",
    "\n",
    "model.compile(optimizer='rmsprop',\n",
    "              loss = 'categorical_crossentropy',\n",
    "              metrics=['accuracy'])"
   ]
  },
  {
   "cell_type": "code",
   "execution_count": 25,
   "id": "24e2f327",
   "metadata": {},
   "outputs": [
    {
     "name": "stdout",
     "output_type": "stream",
     "text": [
      "Epoch 1/60\n",
      "211/211 [==============================] - 3s 6ms/step - loss: 2.0009 - accuracy: 0.5727 - val_loss: 1.4918 - val_accuracy: 0.6852\n",
      "Epoch 2/60\n",
      "211/211 [==============================] - 1s 5ms/step - loss: 1.1936 - accuracy: 0.7136 - val_loss: 1.1525 - val_accuracy: 0.7351\n",
      "Epoch 3/60\n",
      "211/211 [==============================] - 1s 5ms/step - loss: 0.9720 - accuracy: 0.7641 - val_loss: 1.1078 - val_accuracy: 0.7609\n",
      "Epoch 4/60\n",
      "211/211 [==============================] - 1s 5ms/step - loss: 0.8061 - accuracy: 0.8061 - val_loss: 1.1007 - val_accuracy: 0.7778\n",
      "Epoch 5/60\n",
      "211/211 [==============================] - 1s 5ms/step - loss: 0.7022 - accuracy: 0.8254 - val_loss: 1.0847 - val_accuracy: 0.7930\n",
      "Epoch 6/60\n",
      "211/211 [==============================] - 1s 5ms/step - loss: 0.6231 - accuracy: 0.8423 - val_loss: 1.1367 - val_accuracy: 0.7881\n",
      "Epoch 7/60\n",
      "211/211 [==============================] - 1s 4ms/step - loss: 0.5644 - accuracy: 0.8541 - val_loss: 1.2210 - val_accuracy: 0.7898\n",
      "Epoch 8/60\n",
      "211/211 [==============================] - 1s 4ms/step - loss: 0.5204 - accuracy: 0.8668 - val_loss: 1.1736 - val_accuracy: 0.7925\n",
      "Epoch 9/60\n",
      "211/211 [==============================] - 1s 5ms/step - loss: 0.4713 - accuracy: 0.8775 - val_loss: 1.2734 - val_accuracy: 0.7956\n",
      "Epoch 10/60\n",
      "211/211 [==============================] - 1s 5ms/step - loss: 0.4398 - accuracy: 0.8835 - val_loss: 1.3610 - val_accuracy: 0.7939\n",
      "Epoch 11/60\n",
      "211/211 [==============================] - 1s 5ms/step - loss: 0.4236 - accuracy: 0.8864 - val_loss: 1.2889 - val_accuracy: 0.7983\n",
      "Epoch 12/60\n",
      "211/211 [==============================] - 1s 4ms/step - loss: 0.3963 - accuracy: 0.8943 - val_loss: 1.4068 - val_accuracy: 0.7898\n",
      "Epoch 13/60\n",
      "211/211 [==============================] - 1s 4ms/step - loss: 0.3859 - accuracy: 0.9010 - val_loss: 1.4782 - val_accuracy: 0.7943\n",
      "Epoch 14/60\n",
      "211/211 [==============================] - 1s 4ms/step - loss: 0.3562 - accuracy: 0.9017 - val_loss: 1.5237 - val_accuracy: 0.7925\n",
      "Epoch 15/60\n",
      "211/211 [==============================] - 1s 5ms/step - loss: 0.3463 - accuracy: 0.9065 - val_loss: 1.4986 - val_accuracy: 0.7854\n"
     ]
    }
   ],
   "source": [
    "# 문제 2-4: ModelCheckpoint와 EarlyStopping 콜백 함수를 적용하여 모델 학습을 진행합니다.\n",
    "# ModelCheckpoint와 EarlyStopping 콜백 함수 설정\n",
    "from tensorflow.keras.callbacks import ModelCheckpoint, EarlyStopping\n",
    "\n",
    "check_point_cb = ModelCheckpoint('best_model.h5', save_best_only=True)\n",
    "early_stopping_cb = EarlyStopping(patience=10, monitor='val_loss', restore_best_weights=True)\n",
    "history = model.fit(x_train, y_train, epochs=60,\n",
    "                    validation_data=(x_val, y_val),\n",
    "                    callbacks=[check_point_cb, early_stopping_cb])"
   ]
  },
  {
   "cell_type": "code",
   "execution_count": 26,
   "id": "8b1cb0a8",
   "metadata": {},
   "outputs": [
    {
     "data": {
      "image/png": "[encoded data removed]",
      "text/plain": [
       "<Figure size 864x360 with 2 Axes>"
      ]
     },
     "metadata": {},
     "output_type": "display_data"
    }
   ],
   "source": [
    "# 학습 히스토리의 `loss`, `val_loss`, `accuracy`, `val_accuracy`를 차트로 시각화합니다.\n",
    "plt.style.use('seaborn-white')\n",
    "\n",
    "history_dict = history.history\n",
    "\n",
    "loss = history_dict['loss']\n",
    "val_loss = history_dict['val_loss']\n",
    "\n",
    "epochs = range(1, len(loss) + 1)\n",
    "fig = plt.figure(figsize=(12, 5))\n",
    "\n",
    "ax1 = fig.add_subplot(1, 2, 1)\n",
    "ax1.plot(epochs, loss, 'b-', label='train_loss')\n",
    "ax1.plot(epochs, val_loss, 'r-', label='val_loss')\n",
    "ax1.set_title('Train and Validation Loss')\n",
    "ax1.set_xlabel('Epochs')\n",
    "ax1.set_ylabel('Loss')\n",
    "ax1.grid()\n",
    "ax1.legend()\n",
    "\n",
    "accuracy = history_dict['accuracy']\n",
    "val_accuracy = history_dict['val_accuracy']\n",
    "\n",
    "ax2 = fig.add_subplot(1, 2, 2)\n",
    "ax2.plot(epochs, accuracy, 'b-', label='train_accuracy')\n",
    "ax2.plot(epochs, val_accuracy, 'r-', label='val_accuracy')\n",
    "ax2.set_title('Train and Validation Accuracy')\n",
    "ax2.set_xlabel('Epochs')\n",
    "ax2.set_ylabel('Accuracy')\n",
    "ax2.grid()\n",
    "ax2.legend()\n",
    "\n",
    "plt.show()"
   ]
  },
  {
   "cell_type": "code",
   "execution_count": 27,
   "id": "7d4f8eb2",
   "metadata": {},
   "outputs": [
    {
     "name": "stdout",
     "output_type": "stream",
     "text": [
      "71/71 [==============================] - 0s 2ms/step - loss: 1.1924 - accuracy: 0.7676\n",
      "테스트 손실: 1.192432165145874\n",
      "테스트 정확도: 0.7675868272781372\n"
     ]
    }
   ],
   "source": [
    "# 문제 2-5: 테스트 데이터셋을 이용해 모델을 평가합니다.\n",
    "test_loss, test_accuracy = model.evaluate(x_test, y_test)\n",
    "print(\"테스트 손실:\", test_loss)\n",
    "print(\"테스트 정확도:\", test_accuracy)"
   ]
  },
  {
   "cell_type": "code",
   "execution_count": null,
   "id": "874e46f1",
   "metadata": {},
   "outputs": [],
   "source": []
  }
 ],
 "metadata": {
  "kernelspec": {
   "display_name": "Python 3 (ipykernel)",
   "language": "python",
   "name": "python3"
  },
  "language_info": {
   "codemirror_mode": {
    "name": "ipython",
    "version": 3
   },
   "file_extension": ".py",
   "mimetype": "text/x-python",
   "name": "python",
   "nbconvert_exporter": "python",
   "pygments_lexer": "ipython3",
   "version": "3.9.7"
  }
 },
 "nbformat": 4,
 "nbformat_minor": 5
}
