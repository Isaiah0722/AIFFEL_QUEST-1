{
 "cells": [
  {
   "cell_type": "code",
   "execution_count": 60,
   "id": "c3c5cab8",
   "metadata": {},
   "outputs": [],
   "source": [
    "import pandas as pd"
   ]
  },
  {
   "cell_type": "code",
   "execution_count": 61,
   "id": "4cb69717",
   "metadata": {},
   "outputs": [],
   "source": [
    "train = pd.read_csv('/aiffel/data/train.csv')\n",
    "test = pd.read_csv('/aiffel/data/test.csv')"
   ]
  },
  {
   "cell_type": "code",
   "execution_count": 62,
   "id": "4f214406",
   "metadata": {},
   "outputs": [
    {
     "data": {
      "text/plain": [
       "((39116, 16), (9779, 15))"
      ]
     },
     "execution_count": 62,
     "metadata": {},
     "output_type": "execute_result"
    }
   ],
   "source": [
    "train.shape, test.shape"
   ]
  },
  {
   "cell_type": "code",
   "execution_count": 63,
   "id": "64eee64e",
   "metadata": {},
   "outputs": [
    {
     "data": {
      "text/html": [
       "<div>\n",
       "<style scoped>\n",
       "    .dataframe tbody tr th:only-of-type {\n",
       "        vertical-align: middle;\n",
       "    }\n",
       "\n",
       "    .dataframe tbody tr th {\n",
       "        vertical-align: top;\n",
       "    }\n",
       "\n",
       "    .dataframe thead th {\n",
       "        text-align: right;\n",
       "    }\n",
       "</style>\n",
       "<table border=\"1\" class=\"dataframe\">\n",
       "  <thead>\n",
       "    <tr style=\"text-align: right;\">\n",
       "      <th></th>\n",
       "      <th>id</th>\n",
       "      <th>name</th>\n",
       "      <th>host_id</th>\n",
       "      <th>host_name</th>\n",
       "      <th>neighbourhood_group</th>\n",
       "      <th>neighbourhood</th>\n",
       "      <th>latitude</th>\n",
       "      <th>longitude</th>\n",
       "      <th>room_type</th>\n",
       "      <th>price</th>\n",
       "      <th>minimum_nights</th>\n",
       "      <th>number_of_reviews</th>\n",
       "      <th>last_review</th>\n",
       "      <th>reviews_per_month</th>\n",
       "      <th>calculated_host_listings_count</th>\n",
       "      <th>availability_365</th>\n",
       "    </tr>\n",
       "  </thead>\n",
       "  <tbody>\n",
       "    <tr>\n",
       "      <th>0</th>\n",
       "      <td>14963583</td>\n",
       "      <td>Room in South Harlem near Central Park</td>\n",
       "      <td>94219511</td>\n",
       "      <td>Gilles</td>\n",
       "      <td>Manhattan</td>\n",
       "      <td>Harlem</td>\n",
       "      <td>40.80167</td>\n",
       "      <td>-73.95781</td>\n",
       "      <td>Private room</td>\n",
       "      <td>70</td>\n",
       "      <td>3</td>\n",
       "      <td>3</td>\n",
       "      <td>2019-01-01</td>\n",
       "      <td>0.09</td>\n",
       "      <td>2</td>\n",
       "      <td>0</td>\n",
       "    </tr>\n",
       "    <tr>\n",
       "      <th>1</th>\n",
       "      <td>9458704</td>\n",
       "      <td>Large 1BR Apartment, near Times Sq (2nd Floor)</td>\n",
       "      <td>49015331</td>\n",
       "      <td>Iradj</td>\n",
       "      <td>Manhattan</td>\n",
       "      <td>Hell's Kitchen</td>\n",
       "      <td>40.76037</td>\n",
       "      <td>-73.99016</td>\n",
       "      <td>Entire home/apt</td>\n",
       "      <td>240</td>\n",
       "      <td>2</td>\n",
       "      <td>64</td>\n",
       "      <td>2019-06-30</td>\n",
       "      <td>1.68</td>\n",
       "      <td>2</td>\n",
       "      <td>262</td>\n",
       "    </tr>\n",
       "  </tbody>\n",
       "</table>\n",
       "</div>"
      ],
      "text/plain": [
       "         id                                            name   host_id  \\\n",
       "0  14963583          Room in South Harlem near Central Park  94219511   \n",
       "1   9458704  Large 1BR Apartment, near Times Sq (2nd Floor)  49015331   \n",
       "\n",
       "  host_name neighbourhood_group   neighbourhood  latitude  longitude  \\\n",
       "0    Gilles           Manhattan          Harlem  40.80167  -73.95781   \n",
       "1     Iradj           Manhattan  Hell's Kitchen  40.76037  -73.99016   \n",
       "\n",
       "         room_type  price  minimum_nights  number_of_reviews last_review  \\\n",
       "0     Private room     70               3                  3  2019-01-01   \n",
       "1  Entire home/apt    240               2                 64  2019-06-30   \n",
       "\n",
       "   reviews_per_month  calculated_host_listings_count  availability_365  \n",
       "0               0.09                               2                 0  \n",
       "1               1.68                               2               262  "
      ]
     },
     "metadata": {},
     "output_type": "display_data"
    },
    {
     "data": {
      "text/html": [
       "<div>\n",
       "<style scoped>\n",
       "    .dataframe tbody tr th:only-of-type {\n",
       "        vertical-align: middle;\n",
       "    }\n",
       "\n",
       "    .dataframe tbody tr th {\n",
       "        vertical-align: top;\n",
       "    }\n",
       "\n",
       "    .dataframe thead th {\n",
       "        text-align: right;\n",
       "    }\n",
       "</style>\n",
       "<table border=\"1\" class=\"dataframe\">\n",
       "  <thead>\n",
       "    <tr style=\"text-align: right;\">\n",
       "      <th></th>\n",
       "      <th>id</th>\n",
       "      <th>name</th>\n",
       "      <th>host_id</th>\n",
       "      <th>host_name</th>\n",
       "      <th>neighbourhood_group</th>\n",
       "      <th>neighbourhood</th>\n",
       "      <th>latitude</th>\n",
       "      <th>longitude</th>\n",
       "      <th>room_type</th>\n",
       "      <th>minimum_nights</th>\n",
       "      <th>number_of_reviews</th>\n",
       "      <th>last_review</th>\n",
       "      <th>reviews_per_month</th>\n",
       "      <th>calculated_host_listings_count</th>\n",
       "      <th>availability_365</th>\n",
       "    </tr>\n",
       "  </thead>\n",
       "  <tbody>\n",
       "    <tr>\n",
       "      <th>0</th>\n",
       "      <td>30913224</td>\n",
       "      <td>Cozy and Sunny Room Williamsburg, Luxury Building</td>\n",
       "      <td>33771081</td>\n",
       "      <td>Rémy</td>\n",
       "      <td>Brooklyn</td>\n",
       "      <td>Williamsburg</td>\n",
       "      <td>40.70959</td>\n",
       "      <td>-73.94652</td>\n",
       "      <td>Private room</td>\n",
       "      <td>3</td>\n",
       "      <td>2</td>\n",
       "      <td>2019-05-08</td>\n",
       "      <td>0.31</td>\n",
       "      <td>1</td>\n",
       "      <td>0</td>\n",
       "    </tr>\n",
       "    <tr>\n",
       "      <th>1</th>\n",
       "      <td>971247</td>\n",
       "      <td>Sunny Artist Live/Work Apartment</td>\n",
       "      <td>5308961</td>\n",
       "      <td>Larry</td>\n",
       "      <td>Manhattan</td>\n",
       "      <td>Upper West Side</td>\n",
       "      <td>40.79368</td>\n",
       "      <td>-73.96487</td>\n",
       "      <td>Entire home/apt</td>\n",
       "      <td>3</td>\n",
       "      <td>159</td>\n",
       "      <td>2019-07-03</td>\n",
       "      <td>2.09</td>\n",
       "      <td>1</td>\n",
       "      <td>244</td>\n",
       "    </tr>\n",
       "  </tbody>\n",
       "</table>\n",
       "</div>"
      ],
      "text/plain": [
       "         id                                               name   host_id  \\\n",
       "0  30913224  Cozy and Sunny Room Williamsburg, Luxury Building  33771081   \n",
       "1    971247                   Sunny Artist Live/Work Apartment   5308961   \n",
       "\n",
       "  host_name neighbourhood_group    neighbourhood  latitude  longitude  \\\n",
       "0      Rémy            Brooklyn     Williamsburg  40.70959  -73.94652   \n",
       "1     Larry           Manhattan  Upper West Side  40.79368  -73.96487   \n",
       "\n",
       "         room_type  minimum_nights  number_of_reviews last_review  \\\n",
       "0     Private room               3                  2  2019-05-08   \n",
       "1  Entire home/apt               3                159  2019-07-03   \n",
       "\n",
       "   reviews_per_month  calculated_host_listings_count  availability_365  \n",
       "0               0.31                               1                 0  \n",
       "1               2.09                               1               244  "
      ]
     },
     "metadata": {},
     "output_type": "display_data"
    }
   ],
   "source": [
    "# 데이터 샘플\n",
    "display(train.head(2))\n",
    "display(test.head(2))"
   ]
  },
  {
   "cell_type": "code",
   "execution_count": 64,
   "id": "7950ca81",
   "metadata": {},
   "outputs": [
    {
     "name": "stdout",
     "output_type": "stream",
     "text": [
      "<class 'pandas.core.frame.DataFrame'>\n",
      "RangeIndex: 39116 entries, 0 to 39115\n",
      "Data columns (total 16 columns):\n",
      " #   Column                          Non-Null Count  Dtype  \n",
      "---  ------                          --------------  -----  \n",
      " 0   id                              39116 non-null  int64  \n",
      " 1   name                            39104 non-null  object \n",
      " 2   host_id                         39116 non-null  int64  \n",
      " 3   host_name                       39099 non-null  object \n",
      " 4   neighbourhood_group             39116 non-null  object \n",
      " 5   neighbourhood                   39116 non-null  object \n",
      " 6   latitude                        39116 non-null  float64\n",
      " 7   longitude                       39116 non-null  float64\n",
      " 8   room_type                       39116 non-null  object \n",
      " 9   price                           39116 non-null  int64  \n",
      " 10  minimum_nights                  39116 non-null  int64  \n",
      " 11  number_of_reviews               39116 non-null  int64  \n",
      " 12  last_review                     31122 non-null  object \n",
      " 13  reviews_per_month               31122 non-null  float64\n",
      " 14  calculated_host_listings_count  39116 non-null  int64  \n",
      " 15  availability_365                39116 non-null  int64  \n",
      "dtypes: float64(3), int64(7), object(6)\n",
      "memory usage: 4.8+ MB\n"
     ]
    }
   ],
   "source": [
    "# 데이터 타입\n",
    "train.info()"
   ]
  },
  {
   "cell_type": "code",
   "execution_count": 65,
   "id": "239d7752",
   "metadata": {},
   "outputs": [
    {
     "data": {
      "text/plain": [
       "id                                   0\n",
       "name                                12\n",
       "host_id                              0\n",
       "host_name                           17\n",
       "neighbourhood_group                  0\n",
       "neighbourhood                        0\n",
       "latitude                             0\n",
       "longitude                            0\n",
       "room_type                            0\n",
       "price                                0\n",
       "minimum_nights                       0\n",
       "number_of_reviews                    0\n",
       "last_review                       7994\n",
       "reviews_per_month                 7994\n",
       "calculated_host_listings_count       0\n",
       "availability_365                     0\n",
       "dtype: int64"
      ]
     },
     "execution_count": 65,
     "metadata": {},
     "output_type": "execute_result"
    }
   ],
   "source": [
    "# 결측치(train)\n",
    "train.isnull().sum()"
   ]
  },
  {
   "cell_type": "code",
   "execution_count": 66,
   "id": "93d60be8",
   "metadata": {},
   "outputs": [
    {
     "data": {
      "text/plain": [
       "id                                   0\n",
       "name                                 4\n",
       "host_id                              0\n",
       "host_name                            4\n",
       "neighbourhood_group                  0\n",
       "neighbourhood                        0\n",
       "latitude                             0\n",
       "longitude                            0\n",
       "room_type                            0\n",
       "minimum_nights                       0\n",
       "number_of_reviews                    0\n",
       "last_review                       2058\n",
       "reviews_per_month                 2058\n",
       "calculated_host_listings_count       0\n",
       "availability_365                     0\n",
       "dtype: int64"
      ]
     },
     "execution_count": 66,
     "metadata": {},
     "output_type": "execute_result"
    }
   ],
   "source": [
    "# 결측치(test)\n",
    "test.isnull().sum()"
   ]
  },
  {
   "cell_type": "code",
   "execution_count": 67,
   "id": "cff14efd",
   "metadata": {},
   "outputs": [
    {
     "name": "stdout",
     "output_type": "stream",
     "text": [
      "0    4.262680\n",
      "1    5.484797\n",
      "2    5.017280\n",
      "Name: price, dtype: float64\n"
     ]
    },
    {
     "data": {
      "text/plain": [
       "<AxesSubplot:>"
      ]
     },
     "execution_count": 67,
     "metadata": {},
     "output_type": "execute_result"
    },
    {
     "data": {
      "image/png": "[encoded data removed]",
      "text/plain": [
       "<Figure size 432x288 with 1 Axes>"
      ]
     },
     "metadata": {
      "needs_background": "light"
     },
     "output_type": "display_data"
    }
   ],
   "source": [
    "# target(hist), 로그변환\n",
    "import numpy as np\n",
    "\n",
    "print(np.log1p(train['price'])[:3])\n",
    "train['price'] = np.log1p(train['price'])\n",
    "train['price'].hist(bins=100)"
   ]
  },
  {
   "cell_type": "code",
   "execution_count": 68,
   "id": "137cd984",
   "metadata": {},
   "outputs": [
    {
     "data": {
      "text/plain": [
       "count    39116.000000\n",
       "mean         4.737628\n",
       "std          0.694731\n",
       "min          0.000000\n",
       "25%          4.248495\n",
       "50%          4.663439\n",
       "75%          5.170484\n",
       "max          9.210440\n",
       "Name: price, dtype: float64"
      ]
     },
     "execution_count": 68,
     "metadata": {},
     "output_type": "execute_result"
    }
   ],
   "source": [
    "# target(describe)\n",
    "train['price'].describe()"
   ]
  },
  {
   "cell_type": "code",
   "execution_count": 69,
   "id": "807662bd",
   "metadata": {},
   "outputs": [
    {
     "data": {
      "text/plain": [
       "219517861    256\n",
       "107434423    181\n",
       "30283594      99\n",
       "137358866     82\n",
       "12243051      80\n",
       "            ... \n",
       "73369106       1\n",
       "26620387       1\n",
       "176660539      1\n",
       "26004891       1\n",
       "2609535        1\n",
       "Name: host_id, Length: 30845, dtype: int64"
      ]
     },
     "execution_count": 69,
     "metadata": {},
     "output_type": "execute_result"
    }
   ],
   "source": [
    "# 피처(host_id)\n",
    "train['host_id'].value_counts()"
   ]
  },
  {
   "cell_type": "code",
   "execution_count": 70,
   "id": "873ff721",
   "metadata": {},
   "outputs": [],
   "source": [
    "# 결측치 컬럼 삭제(last_review)\n",
    "train=train.drop('last_review',axis=1)\n",
    "test=test.drop('last_review',axis=1)"
   ]
  },
  {
   "cell_type": "code",
   "execution_count": 71,
   "id": "a234449e",
   "metadata": {},
   "outputs": [],
   "source": [
    "# 결측치 채우기\n",
    "train['reviews_per_month']=train['reviews_per_month'].fillna(0)\n",
    "test['reviews_per_month']=test['reviews_per_month'].fillna(0)"
   ]
  },
  {
   "cell_type": "code",
   "execution_count": 72,
   "id": "eec3f05e",
   "metadata": {},
   "outputs": [
    {
     "data": {
      "text/plain": [
       "id                                 0\n",
       "name                              12\n",
       "host_id                            0\n",
       "host_name                         17\n",
       "neighbourhood_group                0\n",
       "neighbourhood                      0\n",
       "latitude                           0\n",
       "longitude                          0\n",
       "room_type                          0\n",
       "price                              0\n",
       "minimum_nights                     0\n",
       "number_of_reviews                  0\n",
       "reviews_per_month                  0\n",
       "calculated_host_listings_count     0\n",
       "availability_365                   0\n",
       "dtype: int64"
      ]
     },
     "execution_count": 72,
     "metadata": {},
     "output_type": "execute_result"
    }
   ],
   "source": [
    "train.isnull().sum()"
   ]
  },
  {
   "cell_type": "code",
   "execution_count": 73,
   "id": "12d61211",
   "metadata": {},
   "outputs": [],
   "source": [
    "# 가격 값 복사\n",
    "target=train['price']\n",
    "train=train.drop('price',axis=1)"
   ]
  },
  {
   "cell_type": "code",
   "execution_count": 74,
   "id": "73b4b9e6",
   "metadata": {},
   "outputs": [],
   "source": [
    "#수치형 피처 선택\n",
    "#수치형 데이터와 범주형 데이터 분리\n",
    "\n",
    "n_train = train.select_dtypes(exclude='object').copy()\n",
    "c_train = train.select_dtypes(include='object').copy()\n",
    "n_test = test.select_dtypes(exclude='object').copy()\n",
    "c_test = test.select_dtypes(include='object').copy()\n"
   ]
  },
  {
   "cell_type": "code",
   "execution_count": 75,
   "id": "23bccd78",
   "metadata": {
    "scrolled": true
   },
   "outputs": [
    {
     "data": {
      "text/html": [
       "<div>\n",
       "<style scoped>\n",
       "    .dataframe tbody tr th:only-of-type {\n",
       "        vertical-align: middle;\n",
       "    }\n",
       "\n",
       "    .dataframe tbody tr th {\n",
       "        vertical-align: top;\n",
       "    }\n",
       "\n",
       "    .dataframe thead th {\n",
       "        text-align: right;\n",
       "    }\n",
       "</style>\n",
       "<table border=\"1\" class=\"dataframe\">\n",
       "  <thead>\n",
       "    <tr style=\"text-align: right;\">\n",
       "      <th></th>\n",
       "      <th>id</th>\n",
       "      <th>host_id</th>\n",
       "      <th>latitude</th>\n",
       "      <th>longitude</th>\n",
       "      <th>minimum_nights</th>\n",
       "      <th>number_of_reviews</th>\n",
       "      <th>reviews_per_month</th>\n",
       "      <th>calculated_host_listings_count</th>\n",
       "      <th>availability_365</th>\n",
       "    </tr>\n",
       "  </thead>\n",
       "  <tbody>\n",
       "    <tr>\n",
       "      <th>count</th>\n",
       "      <td>3.911600e+04</td>\n",
       "      <td>3.911600e+04</td>\n",
       "      <td>39116.000000</td>\n",
       "      <td>39116.000000</td>\n",
       "      <td>39116.000000</td>\n",
       "      <td>39116.000000</td>\n",
       "      <td>39116.000000</td>\n",
       "      <td>39116.000000</td>\n",
       "      <td>39116.000000</td>\n",
       "    </tr>\n",
       "    <tr>\n",
       "      <th>mean</th>\n",
       "      <td>1.898464e+07</td>\n",
       "      <td>6.774143e+07</td>\n",
       "      <td>40.728848</td>\n",
       "      <td>-73.952125</td>\n",
       "      <td>6.990720</td>\n",
       "      <td>23.272855</td>\n",
       "      <td>1.091963</td>\n",
       "      <td>7.090756</td>\n",
       "      <td>112.980826</td>\n",
       "    </tr>\n",
       "    <tr>\n",
       "      <th>std</th>\n",
       "      <td>1.099302e+07</td>\n",
       "      <td>7.881383e+07</td>\n",
       "      <td>0.054499</td>\n",
       "      <td>0.046354</td>\n",
       "      <td>20.310323</td>\n",
       "      <td>44.589170</td>\n",
       "      <td>1.600772</td>\n",
       "      <td>32.661136</td>\n",
       "      <td>131.674306</td>\n",
       "    </tr>\n",
       "    <tr>\n",
       "      <th>min</th>\n",
       "      <td>2.539000e+03</td>\n",
       "      <td>2.438000e+03</td>\n",
       "      <td>40.499790</td>\n",
       "      <td>-74.244420</td>\n",
       "      <td>1.000000</td>\n",
       "      <td>0.000000</td>\n",
       "      <td>0.000000</td>\n",
       "      <td>1.000000</td>\n",
       "      <td>0.000000</td>\n",
       "    </tr>\n",
       "    <tr>\n",
       "      <th>25%</th>\n",
       "      <td>9.412608e+06</td>\n",
       "      <td>7.834978e+06</td>\n",
       "      <td>40.690038</td>\n",
       "      <td>-73.983190</td>\n",
       "      <td>1.000000</td>\n",
       "      <td>1.000000</td>\n",
       "      <td>0.040000</td>\n",
       "      <td>1.000000</td>\n",
       "      <td>0.000000</td>\n",
       "    </tr>\n",
       "    <tr>\n",
       "      <th>50%</th>\n",
       "      <td>1.963650e+07</td>\n",
       "      <td>3.070949e+07</td>\n",
       "      <td>40.723000</td>\n",
       "      <td>-73.955740</td>\n",
       "      <td>2.000000</td>\n",
       "      <td>5.000000</td>\n",
       "      <td>0.370000</td>\n",
       "      <td>1.000000</td>\n",
       "      <td>45.000000</td>\n",
       "    </tr>\n",
       "    <tr>\n",
       "      <th>75%</th>\n",
       "      <td>2.913445e+07</td>\n",
       "      <td>1.074344e+08</td>\n",
       "      <td>40.762943</td>\n",
       "      <td>-73.936338</td>\n",
       "      <td>5.000000</td>\n",
       "      <td>23.000000</td>\n",
       "      <td>1.590000</td>\n",
       "      <td>2.000000</td>\n",
       "      <td>228.000000</td>\n",
       "    </tr>\n",
       "    <tr>\n",
       "      <th>max</th>\n",
       "      <td>3.648561e+07</td>\n",
       "      <td>2.743213e+08</td>\n",
       "      <td>40.912340</td>\n",
       "      <td>-73.712990</td>\n",
       "      <td>1250.000000</td>\n",
       "      <td>629.000000</td>\n",
       "      <td>58.500000</td>\n",
       "      <td>327.000000</td>\n",
       "      <td>365.000000</td>\n",
       "    </tr>\n",
       "  </tbody>\n",
       "</table>\n",
       "</div>"
      ],
      "text/plain": [
       "                 id       host_id      latitude     longitude  minimum_nights  \\\n",
       "count  3.911600e+04  3.911600e+04  39116.000000  39116.000000    39116.000000   \n",
       "mean   1.898464e+07  6.774143e+07     40.728848    -73.952125        6.990720   \n",
       "std    1.099302e+07  7.881383e+07      0.054499      0.046354       20.310323   \n",
       "min    2.539000e+03  2.438000e+03     40.499790    -74.244420        1.000000   \n",
       "25%    9.412608e+06  7.834978e+06     40.690038    -73.983190        1.000000   \n",
       "50%    1.963650e+07  3.070949e+07     40.723000    -73.955740        2.000000   \n",
       "75%    2.913445e+07  1.074344e+08     40.762943    -73.936338        5.000000   \n",
       "max    3.648561e+07  2.743213e+08     40.912340    -73.712990     1250.000000   \n",
       "\n",
       "       number_of_reviews  reviews_per_month  calculated_host_listings_count  \\\n",
       "count       39116.000000       39116.000000                    39116.000000   \n",
       "mean           23.272855           1.091963                        7.090756   \n",
       "std            44.589170           1.600772                       32.661136   \n",
       "min             0.000000           0.000000                        1.000000   \n",
       "25%             1.000000           0.040000                        1.000000   \n",
       "50%             5.000000           0.370000                        1.000000   \n",
       "75%            23.000000           1.590000                        2.000000   \n",
       "max           629.000000          58.500000                      327.000000   \n",
       "\n",
       "       availability_365  \n",
       "count      39116.000000  \n",
       "mean         112.980826  \n",
       "std          131.674306  \n",
       "min            0.000000  \n",
       "25%            0.000000  \n",
       "50%           45.000000  \n",
       "75%          228.000000  \n",
       "max          365.000000  "
      ]
     },
     "execution_count": 75,
     "metadata": {},
     "output_type": "execute_result"
    }
   ],
   "source": [
    "n_train.describe()"
   ]
  },
  {
   "cell_type": "code",
   "execution_count": 76,
   "id": "ea903e4f",
   "metadata": {},
   "outputs": [
    {
     "data": {
      "text/html": [
       "<div>\n",
       "<style scoped>\n",
       "    .dataframe tbody tr th:only-of-type {\n",
       "        vertical-align: middle;\n",
       "    }\n",
       "\n",
       "    .dataframe tbody tr th {\n",
       "        vertical-align: top;\n",
       "    }\n",
       "\n",
       "    .dataframe thead th {\n",
       "        text-align: right;\n",
       "    }\n",
       "</style>\n",
       "<table border=\"1\" class=\"dataframe\">\n",
       "  <thead>\n",
       "    <tr style=\"text-align: right;\">\n",
       "      <th></th>\n",
       "      <th>id</th>\n",
       "      <th>host_id</th>\n",
       "      <th>latitude</th>\n",
       "      <th>longitude</th>\n",
       "      <th>minimum_nights</th>\n",
       "      <th>number_of_reviews</th>\n",
       "      <th>reviews_per_month</th>\n",
       "      <th>calculated_host_listings_count</th>\n",
       "      <th>availability_365</th>\n",
       "    </tr>\n",
       "  </thead>\n",
       "  <tbody>\n",
       "    <tr>\n",
       "      <th>0</th>\n",
       "      <td>14963583</td>\n",
       "      <td>94219511</td>\n",
       "      <td>40.80167</td>\n",
       "      <td>-73.95781</td>\n",
       "      <td>3</td>\n",
       "      <td>3</td>\n",
       "      <td>0.09</td>\n",
       "      <td>2</td>\n",
       "      <td>0</td>\n",
       "    </tr>\n",
       "  </tbody>\n",
       "</table>\n",
       "</div>"
      ],
      "text/plain": [
       "         id   host_id  latitude  longitude  minimum_nights  number_of_reviews  \\\n",
       "0  14963583  94219511  40.80167  -73.95781               3                  3   \n",
       "\n",
       "   reviews_per_month  calculated_host_listings_count  availability_365  \n",
       "0               0.09                               2                 0  "
      ]
     },
     "metadata": {},
     "output_type": "display_data"
    },
    {
     "data": {
      "text/html": [
       "<div>\n",
       "<style scoped>\n",
       "    .dataframe tbody tr th:only-of-type {\n",
       "        vertical-align: middle;\n",
       "    }\n",
       "\n",
       "    .dataframe tbody tr th {\n",
       "        vertical-align: top;\n",
       "    }\n",
       "\n",
       "    .dataframe thead th {\n",
       "        text-align: right;\n",
       "    }\n",
       "</style>\n",
       "<table border=\"1\" class=\"dataframe\">\n",
       "  <thead>\n",
       "    <tr style=\"text-align: right;\">\n",
       "      <th></th>\n",
       "      <th>id</th>\n",
       "      <th>host_id</th>\n",
       "      <th>latitude</th>\n",
       "      <th>longitude</th>\n",
       "      <th>minimum_nights</th>\n",
       "      <th>number_of_reviews</th>\n",
       "      <th>reviews_per_month</th>\n",
       "      <th>calculated_host_listings_count</th>\n",
       "      <th>availability_365</th>\n",
       "    </tr>\n",
       "  </thead>\n",
       "  <tbody>\n",
       "    <tr>\n",
       "      <th>0</th>\n",
       "      <td>14963583</td>\n",
       "      <td>0.343458</td>\n",
       "      <td>0.731742</td>\n",
       "      <td>0.539318</td>\n",
       "      <td>0.001601</td>\n",
       "      <td>0.004769</td>\n",
       "      <td>0.001538</td>\n",
       "      <td>0.003067</td>\n",
       "      <td>0.0</td>\n",
       "    </tr>\n",
       "  </tbody>\n",
       "</table>\n",
       "</div>"
      ],
      "text/plain": [
       "         id   host_id  latitude  longitude  minimum_nights  number_of_reviews  \\\n",
       "0  14963583  0.343458  0.731742   0.539318        0.001601           0.004769   \n",
       "\n",
       "   reviews_per_month  calculated_host_listings_count  availability_365  \n",
       "0           0.001538                        0.003067               0.0  "
      ]
     },
     "metadata": {},
     "output_type": "display_data"
    }
   ],
   "source": [
    "from sklearn.preprocessing import MinMaxScaler\n",
    "scaler=MinMaxScaler()\n",
    "\n",
    "cols=[\n",
    "    'host_id',\n",
    "    'latitude',\n",
    "    'longitude',\n",
    "    'minimum_nights',\n",
    "    'number_of_reviews',\n",
    "    'reviews_per_month',\n",
    "    'calculated_host_listings_count',\n",
    "    'availability_365'\n",
    "    ]\n",
    "\n",
    "display(n_train.head(1))\n",
    "n_train[cols]=scaler.fit_transform(n_train[cols])\n",
    "n_test[cols]=scaler.transform(n_test[cols])\n",
    "display(n_train.head(1))"
   ]
  },
  {
   "cell_type": "code",
   "execution_count": 77,
   "id": "cfd5ec5f",
   "metadata": {},
   "outputs": [],
   "source": [
    "# id 삭제\n",
    "n_train=n_train.drop('id',axis=1)\n",
    "n_test=n_test.drop('id',axis=1)"
   ]
  },
  {
   "cell_type": "code",
   "execution_count": 78,
   "id": "1fb2eb32",
   "metadata": {},
   "outputs": [
    {
     "data": {
      "text/html": [
       "<div>\n",
       "<style scoped>\n",
       "    .dataframe tbody tr th:only-of-type {\n",
       "        vertical-align: middle;\n",
       "    }\n",
       "\n",
       "    .dataframe tbody tr th {\n",
       "        vertical-align: top;\n",
       "    }\n",
       "\n",
       "    .dataframe thead th {\n",
       "        text-align: right;\n",
       "    }\n",
       "</style>\n",
       "<table border=\"1\" class=\"dataframe\">\n",
       "  <thead>\n",
       "    <tr style=\"text-align: right;\">\n",
       "      <th></th>\n",
       "      <th>name</th>\n",
       "      <th>host_name</th>\n",
       "      <th>neighbourhood_group</th>\n",
       "      <th>neighbourhood</th>\n",
       "      <th>room_type</th>\n",
       "    </tr>\n",
       "  </thead>\n",
       "  <tbody>\n",
       "    <tr>\n",
       "      <th>0</th>\n",
       "      <td>Room in South Harlem near Central Park</td>\n",
       "      <td>Gilles</td>\n",
       "      <td>Manhattan</td>\n",
       "      <td>Harlem</td>\n",
       "      <td>Private room</td>\n",
       "    </tr>\n",
       "  </tbody>\n",
       "</table>\n",
       "</div>"
      ],
      "text/plain": [
       "                                     name host_name neighbourhood_group  \\\n",
       "0  Room in South Harlem near Central Park    Gilles           Manhattan   \n",
       "\n",
       "  neighbourhood     room_type  \n",
       "0        Harlem  Private room  "
      ]
     },
     "execution_count": 78,
     "metadata": {},
     "output_type": "execute_result"
    }
   ],
   "source": [
    "c_train.head(1)"
   ]
  },
  {
   "cell_type": "code",
   "execution_count": 79,
   "id": "7f59d454",
   "metadata": {},
   "outputs": [
    {
     "data": {
      "text/html": [
       "<div>\n",
       "<style scoped>\n",
       "    .dataframe tbody tr th:only-of-type {\n",
       "        vertical-align: middle;\n",
       "    }\n",
       "\n",
       "    .dataframe tbody tr th {\n",
       "        vertical-align: top;\n",
       "    }\n",
       "\n",
       "    .dataframe thead th {\n",
       "        text-align: right;\n",
       "    }\n",
       "</style>\n",
       "<table border=\"1\" class=\"dataframe\">\n",
       "  <thead>\n",
       "    <tr style=\"text-align: right;\">\n",
       "      <th></th>\n",
       "      <th>name</th>\n",
       "      <th>host_name</th>\n",
       "      <th>neighbourhood_group</th>\n",
       "      <th>neighbourhood</th>\n",
       "      <th>room_type</th>\n",
       "    </tr>\n",
       "  </thead>\n",
       "  <tbody>\n",
       "    <tr>\n",
       "      <th>count</th>\n",
       "      <td>39104</td>\n",
       "      <td>39099</td>\n",
       "      <td>39116</td>\n",
       "      <td>39116</td>\n",
       "      <td>39116</td>\n",
       "    </tr>\n",
       "    <tr>\n",
       "      <th>unique</th>\n",
       "      <td>38420</td>\n",
       "      <td>9977</td>\n",
       "      <td>5</td>\n",
       "      <td>221</td>\n",
       "      <td>3</td>\n",
       "    </tr>\n",
       "    <tr>\n",
       "      <th>top</th>\n",
       "      <td>Home away from home</td>\n",
       "      <td>Michael</td>\n",
       "      <td>Manhattan</td>\n",
       "      <td>Williamsburg</td>\n",
       "      <td>Entire home/apt</td>\n",
       "    </tr>\n",
       "    <tr>\n",
       "      <th>freq</th>\n",
       "      <td>15</td>\n",
       "      <td>338</td>\n",
       "      <td>17331</td>\n",
       "      <td>3099</td>\n",
       "      <td>20299</td>\n",
       "    </tr>\n",
       "  </tbody>\n",
       "</table>\n",
       "</div>"
      ],
      "text/plain": [
       "                       name host_name neighbourhood_group neighbourhood  \\\n",
       "count                 39104     39099               39116         39116   \n",
       "unique                38420      9977                   5           221   \n",
       "top     Home away from home   Michael           Manhattan  Williamsburg   \n",
       "freq                     15       338               17331          3099   \n",
       "\n",
       "              room_type  \n",
       "count             39116  \n",
       "unique                3  \n",
       "top     Entire home/apt  \n",
       "freq              20299  "
      ]
     },
     "execution_count": 79,
     "metadata": {},
     "output_type": "execute_result"
    }
   ],
   "source": [
    "c_train.describe()"
   ]
  },
  {
   "cell_type": "code",
   "execution_count": 80,
   "id": "ffb8a0ff",
   "metadata": {},
   "outputs": [
    {
     "data": {
      "text/html": [
       "<div>\n",
       "<style scoped>\n",
       "    .dataframe tbody tr th:only-of-type {\n",
       "        vertical-align: middle;\n",
       "    }\n",
       "\n",
       "    .dataframe tbody tr th {\n",
       "        vertical-align: top;\n",
       "    }\n",
       "\n",
       "    .dataframe thead th {\n",
       "        text-align: right;\n",
       "    }\n",
       "</style>\n",
       "<table border=\"1\" class=\"dataframe\">\n",
       "  <thead>\n",
       "    <tr style=\"text-align: right;\">\n",
       "      <th></th>\n",
       "      <th>name</th>\n",
       "      <th>host_name</th>\n",
       "      <th>neighbourhood_group</th>\n",
       "      <th>neighbourhood</th>\n",
       "      <th>room_type</th>\n",
       "    </tr>\n",
       "  </thead>\n",
       "  <tbody>\n",
       "    <tr>\n",
       "      <th>0</th>\n",
       "      <td>Room in South Harlem near Central Park</td>\n",
       "      <td>Gilles</td>\n",
       "      <td>Manhattan</td>\n",
       "      <td>Harlem</td>\n",
       "      <td>Private room</td>\n",
       "    </tr>\n",
       "  </tbody>\n",
       "</table>\n",
       "</div>"
      ],
      "text/plain": [
       "                                     name host_name neighbourhood_group  \\\n",
       "0  Room in South Harlem near Central Park    Gilles           Manhattan   \n",
       "\n",
       "  neighbourhood     room_type  \n",
       "0        Harlem  Private room  "
      ]
     },
     "metadata": {},
     "output_type": "display_data"
    },
    {
     "data": {
      "text/html": [
       "<div>\n",
       "<style scoped>\n",
       "    .dataframe tbody tr th:only-of-type {\n",
       "        vertical-align: middle;\n",
       "    }\n",
       "\n",
       "    .dataframe tbody tr th {\n",
       "        vertical-align: top;\n",
       "    }\n",
       "\n",
       "    .dataframe thead th {\n",
       "        text-align: right;\n",
       "    }\n",
       "</style>\n",
       "<table border=\"1\" class=\"dataframe\">\n",
       "  <thead>\n",
       "    <tr style=\"text-align: right;\">\n",
       "      <th></th>\n",
       "      <th>name</th>\n",
       "      <th>host_name</th>\n",
       "      <th>neighbourhood_group</th>\n",
       "      <th>neighbourhood</th>\n",
       "      <th>room_type</th>\n",
       "    </tr>\n",
       "  </thead>\n",
       "  <tbody>\n",
       "    <tr>\n",
       "      <th>0</th>\n",
       "      <td>Room in South Harlem near Central Park</td>\n",
       "      <td>Gilles</td>\n",
       "      <td>2</td>\n",
       "      <td>94</td>\n",
       "      <td>1</td>\n",
       "    </tr>\n",
       "  </tbody>\n",
       "</table>\n",
       "</div>"
      ],
      "text/plain": [
       "                                     name host_name  neighbourhood_group  \\\n",
       "0  Room in South Harlem near Central Park    Gilles                    2   \n",
       "\n",
       "   neighbourhood  room_type  \n",
       "0             94          1  "
      ]
     },
     "metadata": {},
     "output_type": "display_data"
    }
   ],
   "source": [
    "#범주형 변수\n",
    "from sklearn.preprocessing import LabelEncoder\n",
    "le = LabelEncoder()\n",
    "cols=[\n",
    "    'neighbourhood_group',\n",
    "    'neighbourhood',\n",
    "    'room_type'\n",
    "]\n",
    "\n",
    "display(c_train.head(1))\n",
    "for col in cols:\n",
    "    c_train[col]=le.fit_transform(c_train[col])\n",
    "    c_test[col]=le.transform(c_test[col])\n",
    "    \n",
    "display(c_train.head(1))"
   ]
  },
  {
   "cell_type": "code",
   "execution_count": 81,
   "id": "97069c97",
   "metadata": {},
   "outputs": [],
   "source": [
    "del_cols=['name','host_name']\n",
    "c_train=c_train.drop(del_cols,axis=1)\n",
    "c_test=c_test.drop(del_cols,axis=1)"
   ]
  },
  {
   "cell_type": "code",
   "execution_count": 82,
   "id": "7e66a708",
   "metadata": {},
   "outputs": [
    {
     "name": "stdout",
     "output_type": "stream",
     "text": [
      "(39116, 11) (9779, 11)\n"
     ]
    },
    {
     "data": {
      "text/html": [
       "<div>\n",
       "<style scoped>\n",
       "    .dataframe tbody tr th:only-of-type {\n",
       "        vertical-align: middle;\n",
       "    }\n",
       "\n",
       "    .dataframe tbody tr th {\n",
       "        vertical-align: top;\n",
       "    }\n",
       "\n",
       "    .dataframe thead th {\n",
       "        text-align: right;\n",
       "    }\n",
       "</style>\n",
       "<table border=\"1\" class=\"dataframe\">\n",
       "  <thead>\n",
       "    <tr style=\"text-align: right;\">\n",
       "      <th></th>\n",
       "      <th>host_id</th>\n",
       "      <th>latitude</th>\n",
       "      <th>longitude</th>\n",
       "      <th>minimum_nights</th>\n",
       "      <th>number_of_reviews</th>\n",
       "      <th>reviews_per_month</th>\n",
       "      <th>calculated_host_listings_count</th>\n",
       "      <th>availability_365</th>\n",
       "      <th>neighbourhood_group</th>\n",
       "      <th>neighbourhood</th>\n",
       "      <th>room_type</th>\n",
       "    </tr>\n",
       "  </thead>\n",
       "  <tbody>\n",
       "    <tr>\n",
       "      <th>0</th>\n",
       "      <td>0.343458</td>\n",
       "      <td>0.731742</td>\n",
       "      <td>0.539318</td>\n",
       "      <td>0.001601</td>\n",
       "      <td>0.004769</td>\n",
       "      <td>0.001538</td>\n",
       "      <td>0.003067</td>\n",
       "      <td>0.000000</td>\n",
       "      <td>2</td>\n",
       "      <td>94</td>\n",
       "      <td>1</td>\n",
       "    </tr>\n",
       "    <tr>\n",
       "      <th>1</th>\n",
       "      <td>0.178671</td>\n",
       "      <td>0.631633</td>\n",
       "      <td>0.478445</td>\n",
       "      <td>0.000801</td>\n",
       "      <td>0.101749</td>\n",
       "      <td>0.028718</td>\n",
       "      <td>0.003067</td>\n",
       "      <td>0.717808</td>\n",
       "      <td>2</td>\n",
       "      <td>95</td>\n",
       "      <td>0</td>\n",
       "    </tr>\n",
       "    <tr>\n",
       "      <th>2</th>\n",
       "      <td>0.001595</td>\n",
       "      <td>0.558041</td>\n",
       "      <td>0.449354</td>\n",
       "      <td>0.047238</td>\n",
       "      <td>0.001590</td>\n",
       "      <td>0.003419</td>\n",
       "      <td>0.000000</td>\n",
       "      <td>0.000000</td>\n",
       "      <td>2</td>\n",
       "      <td>209</td>\n",
       "      <td>0</td>\n",
       "    </tr>\n",
       "    <tr>\n",
       "      <th>3</th>\n",
       "      <td>0.013033</td>\n",
       "      <td>0.464162</td>\n",
       "      <td>0.579361</td>\n",
       "      <td>0.002402</td>\n",
       "      <td>0.379968</td>\n",
       "      <td>0.049402</td>\n",
       "      <td>0.003067</td>\n",
       "      <td>0.002740</td>\n",
       "      <td>1</td>\n",
       "      <td>13</td>\n",
       "      <td>0</td>\n",
       "    </tr>\n",
       "    <tr>\n",
       "      <th>4</th>\n",
       "      <td>0.045468</td>\n",
       "      <td>0.458611</td>\n",
       "      <td>0.543571</td>\n",
       "      <td>0.021617</td>\n",
       "      <td>0.000000</td>\n",
       "      <td>0.000000</td>\n",
       "      <td>0.000000</td>\n",
       "      <td>0.000000</td>\n",
       "      <td>1</td>\n",
       "      <td>13</td>\n",
       "      <td>1</td>\n",
       "    </tr>\n",
       "  </tbody>\n",
       "</table>\n",
       "</div>"
      ],
      "text/plain": [
       "    host_id  latitude  longitude  minimum_nights  number_of_reviews  \\\n",
       "0  0.343458  0.731742   0.539318        0.001601           0.004769   \n",
       "1  0.178671  0.631633   0.478445        0.000801           0.101749   \n",
       "2  0.001595  0.558041   0.449354        0.047238           0.001590   \n",
       "3  0.013033  0.464162   0.579361        0.002402           0.379968   \n",
       "4  0.045468  0.458611   0.543571        0.021617           0.000000   \n",
       "\n",
       "   reviews_per_month  calculated_host_listings_count  availability_365  \\\n",
       "0           0.001538                        0.003067          0.000000   \n",
       "1           0.028718                        0.003067          0.717808   \n",
       "2           0.003419                        0.000000          0.000000   \n",
       "3           0.049402                        0.003067          0.002740   \n",
       "4           0.000000                        0.000000          0.000000   \n",
       "\n",
       "   neighbourhood_group  neighbourhood  room_type  \n",
       "0                    2             94          1  \n",
       "1                    2             95          0  \n",
       "2                    2            209          0  \n",
       "3                    1             13          0  \n",
       "4                    1             13          1  "
      ]
     },
     "execution_count": 82,
     "metadata": {},
     "output_type": "execute_result"
    }
   ],
   "source": [
    "#분리한 데이터 다시 합침\n",
    "train=pd.concat([n_train,c_train],axis=1)\n",
    "test=pd.concat([n_test,c_test],axis=1)\n",
    "print(train.shape,test.shape)\n",
    "train.head()"
   ]
  },
  {
   "cell_type": "code",
   "execution_count": 83,
   "id": "c96bb708",
   "metadata": {},
   "outputs": [
    {
     "data": {
      "text/plain": [
       "((31292, 11), (7824, 11), (31292,), (7824,))"
      ]
     },
     "execution_count": 83,
     "metadata": {},
     "output_type": "execute_result"
    }
   ],
   "source": [
    "# 검증 데이터 분리\n",
    "from sklearn.model_selection import train_test_split\n",
    "\n",
    "X_train, X_val, y_train, y_val=train_test_split(train, target, test_size=0.2, random_state=2022)\n",
    "X_train.shape, X_val.shape, y_train.shape, y_val.shape"
   ]
  },
  {
   "cell_type": "code",
   "execution_count": 84,
   "id": "0b88484d",
   "metadata": {},
   "outputs": [
    {
     "data": {
      "text/plain": [
       "23271.321545454648"
      ]
     },
     "execution_count": 84,
     "metadata": {},
     "output_type": "execute_result"
    }
   ],
   "source": [
    "#랜덤 포레스트\n",
    "from sklearn.ensemble import RandomForestRegressor\n",
    "from sklearn.metrics import mean_squared_error\n",
    "\n",
    "model=RandomForestRegressor(random_state=2022, n_estimators=200)\n",
    "model.fit(X_train,y_train)\n",
    "pred=model.predict(X_val)\n",
    "\n",
    "pred=np.expm1(pred)\n",
    "mean_squared_error(y_val,pred)"
   ]
  },
  {
   "cell_type": "code",
   "execution_count": 85,
   "id": "03d624a2",
   "metadata": {},
   "outputs": [
    {
     "data": {
      "text/plain": [
       "0.24992305914570764"
      ]
     },
     "execution_count": 85,
     "metadata": {},
     "output_type": "execute_result"
    }
   ],
   "source": [
    "#릿지 회귀\n",
    "from sklearn.linear_model import Ridge\n",
    "\n",
    "model=Ridge()\n",
    "model.fit(X_train,y_train)\n",
    "pred=model.predict(X_val)\n",
    "mean_squared_error(y_val,pred)"
   ]
  },
  {
   "cell_type": "code",
   "execution_count": 86,
   "id": "1041e776",
   "metadata": {},
   "outputs": [
    {
     "data": {
      "text/plain": [
       "0.4616889729173659"
      ]
     },
     "execution_count": 86,
     "metadata": {},
     "output_type": "execute_result"
    }
   ],
   "source": [
    "#라쏘 회귀\n",
    "from sklearn.linear_model import Lasso\n",
    "\n",
    "model=Lasso()\n",
    "model.fit(X_train,y_train)\n",
    "pred=model.predict(X_val)\n",
    "mean_squared_error(y_val,pred)"
   ]
  },
  {
   "cell_type": "code",
   "execution_count": 87,
   "id": "543a2b23",
   "metadata": {},
   "outputs": [
    {
     "data": {
      "text/plain": [
       "0.4616280632590517"
      ]
     },
     "execution_count": 87,
     "metadata": {},
     "output_type": "execute_result"
    }
   ],
   "source": [
    "#엘라스틱넷 회귀\n",
    "from sklearn.linear_model import ElasticNet\n",
    "\n",
    "model=ElasticNet()\n",
    "model.fit(X_train,y_train)\n",
    "pred=model.predict(X_val)\n",
    "mean_squared_error(y_val,pred)"
   ]
  },
  {
   "cell_type": "code",
   "execution_count": 88,
   "id": "91122527",
   "metadata": {},
   "outputs": [
    {
     "data": {
      "text/plain": [
       "22286.997994177866"
      ]
     },
     "execution_count": 88,
     "metadata": {},
     "output_type": "execute_result"
    }
   ],
   "source": [
    "# xgboost\n",
    "from xgboost import XGBRegressor\n",
    "\n",
    "model=XGBRegressor(max_depth=10,\n",
    "                  learning_rate=0.02,\n",
    "                  n_estimators=500,\n",
    "                  random_state=2022)\n",
    "model.fit(X_train,y_train)\n",
    "pred=model.predict(X_val)\n",
    "\n",
    "pred=np.expm1(pred)\n",
    "mean_squared_error(y_val,pred)"
   ]
  },
  {
   "cell_type": "code",
   "execution_count": 89,
   "id": "80d911da",
   "metadata": {},
   "outputs": [
    {
     "data": {
      "text/plain": [
       "42778.2854814971"
      ]
     },
     "execution_count": 89,
     "metadata": {},
     "output_type": "execute_result"
    }
   ],
   "source": [
    "#test 데이터 예측 및 평가\n",
    "y_test = pd.read_csv('/aiffel/data/y_test.csv')\n",
    "\n",
    "# Xgboost\n",
    "pred = model.predict(test)\n",
    "\n",
    "pred=np.expm1(pred)\n",
    "mean_squared_error(y_test, pred)"
   ]
  },
  {
   "cell_type": "code",
   "execution_count": null,
   "id": "bc309760",
   "metadata": {},
   "outputs": [],
   "source": []
  }
 ],
 "metadata": {
  "kernelspec": {
   "display_name": "Python 3 (ipykernel)",
   "language": "python",
   "name": "python3"
  },
  "language_info": {
   "codemirror_mode": {
    "name": "ipython",
    "version": 3
   },
   "file_extension": ".py",
   "mimetype": "text/x-python",
   "name": "python",
   "nbconvert_exporter": "python",
   "pygments_lexer": "ipython3",
   "version": "3.9.7"
  }
 },
 "nbformat": 4,
 "nbformat_minor": 5
}
